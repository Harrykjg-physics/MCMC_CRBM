{
  "nbformat": 4,
  "nbformat_minor": 0,
  "metadata": {
    "colab": {
      "name": "Ising CRBM.ipynb",
      "version": "0.3.2",
      "provenance": [],
      "collapsed_sections": [],
      "include_colab_link": true
    },
    "kernelspec": {
      "name": "python3",
      "display_name": "Python 3"
    },
    "accelerator": "GPU"
  },
  "cells": [
    {
      "cell_type": "markdown",
      "metadata": {
        "id": "view-in-github",
        "colab_type": "text"
      },
      "source": [
        "<a href=\"https://colab.research.google.com/github/danielalcalde/MCMC_CRBM/blob/master/Ising_CRBM.ipynb\" target=\"_parent\"><img src=\"https://colab.research.google.com/assets/colab-badge.svg\" alt=\"Open In Colab\"/></a>"
      ]
    },
    {
      "cell_type": "markdown",
      "metadata": {
        "id": "amXB-OcpSa1R",
        "colab_type": "text"
      },
      "source": [
        "# Simulating the Ising model using an CRBM"
      ]
    },
    {
      "cell_type": "markdown",
      "metadata": {
        "id": "e0xxh6USSodO",
        "colab_type": "text"
      },
      "source": [
        "## Abstract:\n",
        "Machine learning is becoming widely used in analyzing the thermodynamics of many-body condensed matter systems.\n",
        "Restricted Boltzmann Machine (RBM) aided Montecarlo simulations have sparked interest recently as they manage to speed up classical Monte Carlo simulations.\n",
        "Here we employ the Convolutional Restricted Boltzmann Machine (CRBM) method and show that its use helps to reduce the number of parameters to be learned drastically by taking advantage of translation invariance. Furthermore, we show that it is possible to train the CRBM at smaller lattice sizes, and apply it to bigger lattice sizes. To demonstrate the efficiency of CRBM we apply it to the paradigmatic  Ising and Kitaev models in two dimensions.\n",
        "\n",
        "## Paper:\n",
        "paper link"
      ]
    },
    {
      "cell_type": "markdown",
      "metadata": {
        "id": "XaiBKOtWTBEV",
        "colab_type": "text"
      },
      "source": [
        "## Introduction\n",
        "This Notebook is intended as an educational tool for the use of Convolutional Restricted Boltzmann Machines in classical Montecarlo simulations. The code for the paper was written with the library Theano, which will no longer be updated, that is why we have chosen to present the main concept in TensorFlow. Specifically, this notebook only tackles the Ising model. As there is only the nearest neighbor interaction, we can teach the CRBM using 3X3 states, this has as a consequence that we are able to generate all possible states $2^{3*3}= 512$ and learn the energy function from them. So no Metropolis is necessary, and no sampling of the CRBM while training is necessary. Also contrary to the main work, for simplicity, no correction step or parallel tempering is introduced. \n"
      ]
    },
    {
      "cell_type": "markdown",
      "metadata": {
        "id": "6t5AMJk__vdw",
        "colab_type": "text"
      },
      "source": [
        "# Installing tensorflow"
      ]
    },
    {
      "cell_type": "code",
      "metadata": {
        "id": "mqVmIoHumhCe",
        "colab_type": "code",
        "outputId": "a7fb3810-8134-4ab5-dae1-9fb433d42150",
        "colab": {
          "base_uri": "https://localhost:8080/",
          "height": 0
        }
      },
      "source": [
        "### install necessary packages if in colab\n",
        "def run_subprocess_command(cmd):\n",
        "    process = subprocess.Popen(cmd.split(), stdout=subprocess.PIPE)\n",
        "    for line in process.stdout:\n",
        "        print(line.decode().strip())\n",
        "\n",
        "\n",
        "import sys, subprocess\n",
        "\n",
        "IN_COLAB = \"google.colab\" in sys.modules\n",
        "colab_requirements = [\"pip install tensorflow-gpu==2.0.0-beta1\"]\n",
        "if IN_COLAB:\n",
        "    for i in colab_requirements:\n",
        "        run_subprocess_command(i)"
      ],
      "execution_count": 1,
      "outputs": [
        {
          "output_type": "stream",
          "text": [
            "Requirement already satisfied: tensorflow-gpu==2.0.0-beta1 in /usr/local/lib/python3.6/dist-packages (2.0.0b1)\n",
            "Requirement already satisfied: termcolor>=1.1.0 in /usr/local/lib/python3.6/dist-packages (from tensorflow-gpu==2.0.0-beta1) (1.1.0)\n",
            "Requirement already satisfied: google-pasta>=0.1.6 in /usr/local/lib/python3.6/dist-packages (from tensorflow-gpu==2.0.0-beta1) (0.1.7)\n",
            "Requirement already satisfied: wrapt>=1.11.1 in /usr/local/lib/python3.6/dist-packages (from tensorflow-gpu==2.0.0-beta1) (1.11.2)\n",
            "Requirement already satisfied: absl-py>=0.7.0 in /usr/local/lib/python3.6/dist-packages (from tensorflow-gpu==2.0.0-beta1) (0.7.1)\n",
            "Requirement already satisfied: astor>=0.6.0 in /usr/local/lib/python3.6/dist-packages (from tensorflow-gpu==2.0.0-beta1) (0.8.0)\n",
            "Requirement already satisfied: protobuf>=3.6.1 in /usr/local/lib/python3.6/dist-packages (from tensorflow-gpu==2.0.0-beta1) (3.7.1)\n",
            "Requirement already satisfied: numpy<2.0,>=1.14.5 in /usr/local/lib/python3.6/dist-packages (from tensorflow-gpu==2.0.0-beta1) (1.16.4)\n",
            "Requirement already satisfied: tf-estimator-nightly<1.14.0.dev2019060502,>=1.14.0.dev2019060501 in /usr/local/lib/python3.6/dist-packages (from tensorflow-gpu==2.0.0-beta1) (1.14.0.dev2019060501)\n",
            "Requirement already satisfied: keras-preprocessing>=1.0.5 in /usr/local/lib/python3.6/dist-packages (from tensorflow-gpu==2.0.0-beta1) (1.1.0)\n",
            "Requirement already satisfied: wheel>=0.26 in /usr/local/lib/python3.6/dist-packages (from tensorflow-gpu==2.0.0-beta1) (0.33.4)\n",
            "Requirement already satisfied: grpcio>=1.8.6 in /usr/local/lib/python3.6/dist-packages (from tensorflow-gpu==2.0.0-beta1) (1.15.0)\n",
            "Requirement already satisfied: gast>=0.2.0 in /usr/local/lib/python3.6/dist-packages (from tensorflow-gpu==2.0.0-beta1) (0.2.2)\n",
            "Requirement already satisfied: keras-applications>=1.0.6 in /usr/local/lib/python3.6/dist-packages (from tensorflow-gpu==2.0.0-beta1) (1.0.8)\n",
            "Requirement already satisfied: six>=1.10.0 in /usr/local/lib/python3.6/dist-packages (from tensorflow-gpu==2.0.0-beta1) (1.12.0)\n",
            "Requirement already satisfied: tb-nightly<1.14.0a20190604,>=1.14.0a20190603 in /usr/local/lib/python3.6/dist-packages (from tensorflow-gpu==2.0.0-beta1) (1.14.0a20190603)\n",
            "Requirement already satisfied: setuptools in /usr/local/lib/python3.6/dist-packages (from protobuf>=3.6.1->tensorflow-gpu==2.0.0-beta1) (41.0.1)\n",
            "Requirement already satisfied: h5py in /usr/local/lib/python3.6/dist-packages (from keras-applications>=1.0.6->tensorflow-gpu==2.0.0-beta1) (2.8.0)\n",
            "Requirement already satisfied: werkzeug>=0.11.15 in /usr/local/lib/python3.6/dist-packages (from tb-nightly<1.14.0a20190604,>=1.14.0a20190603->tensorflow-gpu==2.0.0-beta1) (0.15.5)\n",
            "Requirement already satisfied: markdown>=2.6.8 in /usr/local/lib/python3.6/dist-packages (from tb-nightly<1.14.0a20190604,>=1.14.0a20190603->tensorflow-gpu==2.0.0-beta1) (3.1.1)\n"
          ],
          "name": "stdout"
        }
      ]
    },
    {
      "cell_type": "markdown",
      "metadata": {
        "id": "GzkLSnOF_4EG",
        "colab_type": "text"
      },
      "source": [
        "# Importing necessary libraries"
      ]
    },
    {
      "cell_type": "code",
      "metadata": {
        "id": "jTbdHbRCoJzr",
        "colab_type": "code",
        "colab": {}
      },
      "source": [
        "import numpy as np\n",
        "import tensorflow as tf\n",
        "from IPython import display\n",
        "import pandas as pd\n",
        "import time\n",
        "import matplotlib.pyplot as plt"
      ],
      "execution_count": 0,
      "outputs": []
    },
    {
      "cell_type": "markdown",
      "metadata": {
        "id": "adjL1Ta-4yjG",
        "colab_type": "text"
      },
      "source": [
        "Accuracy used for training and numerics."
      ]
    },
    {
      "cell_type": "code",
      "metadata": {
        "id": "5mYviS_74wT-",
        "colab_type": "code",
        "colab": {}
      },
      "source": [
        "floatX = np.float32"
      ],
      "execution_count": 0,
      "outputs": []
    },
    {
      "cell_type": "code",
      "metadata": {
        "id": "tdJQe7e7PmE_",
        "colab_type": "code",
        "colab": {}
      },
      "source": [
        "t0 = time.time()"
      ],
      "execution_count": 0,
      "outputs": []
    },
    {
      "cell_type": "markdown",
      "metadata": {
        "id": "x6CGNL5T__7Q",
        "colab_type": "text"
      },
      "source": [
        "# Helping functions"
      ]
    },
    {
      "cell_type": "markdown",
      "metadata": {
        "id": "nMdm-89o52rP",
        "colab_type": "text"
      },
      "source": [
        "Tensorflow has no implementation of the binomial function. With help of random.uniform the beahviour can be replicated."
      ]
    },
    {
      "cell_type": "code",
      "metadata": {
        "id": "HuZ3rWnuorPl",
        "colab_type": "code",
        "colab": {}
      },
      "source": [
        "def binomial(means):\n",
        "    return (tf.sign(means - tf.random.uniform(tf.shape(means))) + 1 )/2"
      ],
      "execution_count": 0,
      "outputs": []
    },
    {
      "cell_type": "code",
      "metadata": {
        "id": "ZRYigXZ33_SS",
        "colab_type": "code",
        "colab": {
          "base_uri": "https://localhost:8080/",
          "height": 34
        },
        "outputId": "99105eb9-96ac-4d76-9752-bbb1e73a4c58"
      },
      "source": [
        "binomial(np.array([0.5, 0.5, 0.1, 0.9]))"
      ],
      "execution_count": 6,
      "outputs": [
        {
          "output_type": "execute_result",
          "data": {
            "text/plain": [
              "<tf.Tensor: id=14, shape=(4,), dtype=float32, numpy=array([0., 0., 0., 1.], dtype=float32)>"
            ]
          },
          "metadata": {
            "tags": []
          },
          "execution_count": 6
        }
      ]
    },
    {
      "cell_type": "markdown",
      "metadata": {
        "id": "T8rR10bN6WBI",
        "colab_type": "text"
      },
      "source": [
        "This functions creates periodic padding so that the convolution has periodic boundary conditions. When performing the transposed convolution step the padding is placed in the oposite site then for the convolution."
      ]
    },
    {
      "cell_type": "code",
      "metadata": {
        "id": "NWbNnXjOng1d",
        "colab_type": "code",
        "outputId": "344ae355-f6b5-4b38-8072-351638fbf8e3",
        "colab": {
          "base_uri": "https://localhost:8080/",
          "height": 208
        }
      },
      "source": [
        "def periodic_padding(x, filter_size=2, deconv=False):\n",
        "    '''\n",
        "    x: shape (batch_size, d1, d2)\n",
        "    return x padded with periodic boundaries. i.e. torus or donut\n",
        "    '''\n",
        "    pad_r = filter_size // 2\n",
        "    pad_l = filter_size - pad_r - 1\n",
        "    \n",
        "    d1, d2 = x.shape[1:3]\n",
        "    \n",
        "    # When deconvolving the pading should reverses\n",
        "    if deconv:\n",
        "        p = pad_r\n",
        "        pad_r = pad_l\n",
        "        pad_l = p   \n",
        "\n",
        "    top_left = x[:, d1 - pad_l:, d2 - pad_l:]\n",
        "    top_center = x[:, d1 - pad_l:, :]\n",
        "    top_right = x[:, d1 - pad_l:, :pad_r]\n",
        "\n",
        "    middle_left = x[:, :, d2 - pad_l:]\n",
        "    middle_center = x\n",
        "    middle_right = x[:, :, :pad_r]\n",
        "\n",
        "    bottom_left = x[:, :pad_r, d2 - pad_l:]\n",
        "    bottom_center = x[:, :pad_r, :]\n",
        "    bottom_right = x[:, :pad_r, :pad_r]\n",
        "    \n",
        "    top = tf.concat([top_left, top_center, top_right], axis=2)\n",
        "    middle = tf.concat([middle_left, middle_center, middle_right], axis=2)\n",
        "    bottom = tf.concat([bottom_left, bottom_center, bottom_right], axis=2)\n",
        "    padded_x = tf.concat([top, middle, bottom], axis=1)\n",
        "    return padded_x\n",
        "\n",
        "a = tf.Variable(np.arange(4 * 4).reshape(1, 4, 4))\n",
        "print(a)\n",
        "print(periodic_padding(a))"
      ],
      "execution_count": 7,
      "outputs": [
        {
          "output_type": "stream",
          "text": [
            "<tf.Variable 'Variable:0' shape=(1, 4, 4) dtype=int64, numpy=\n",
            "array([[[ 0,  1,  2,  3],\n",
            "        [ 4,  5,  6,  7],\n",
            "        [ 8,  9, 10, 11],\n",
            "        [12, 13, 14, 15]]])>\n",
            "tf.Tensor(\n",
            "[[[ 0  1  2  3  0]\n",
            "  [ 4  5  6  7  4]\n",
            "  [ 8  9 10 11  8]\n",
            "  [12 13 14 15 12]\n",
            "  [ 0  1  2  3  0]]], shape=(1, 5, 5), dtype=int64)\n"
          ],
          "name": "stdout"
        }
      ]
    },
    {
      "cell_type": "markdown",
      "metadata": {
        "id": "9Ba-8XzQve8c",
        "colab_type": "text"
      },
      "source": [
        "# Dataset Generation"
      ]
    },
    {
      "cell_type": "code",
      "metadata": {
        "id": "85mAzBWlt7p7",
        "colab_type": "code",
        "colab": {}
      },
      "source": [
        "def to_int(x):\n",
        "    if x =='0' or x == '1': return int(x)\n",
        "    else: return 0\n",
        "\n",
        "#This will generate all posible NXN matrices with {0,1}^(NXN) don't use with more then N=4\n",
        "def bit_string(N):\n",
        "    maxim = 2 ** (N ** 2)\n",
        "    a = np.asarray([[to_int(x) for x in list(('{0:' + str(N ** 2) + 'b}').format(i))] for i in range(maxim)], dtype=floatX)\n",
        "    return a.reshape(2 ** (N ** 2), N, N)"
      ],
      "execution_count": 0,
      "outputs": []
    },
    {
      "cell_type": "markdown",
      "metadata": {
        "id": "m19Njkt2AJsT",
        "colab_type": "text"
      },
      "source": [
        "Generate all posible 3X3 states"
      ]
    },
    {
      "cell_type": "code",
      "metadata": {
        "id": "F5IEPtsTvUIa",
        "colab_type": "code",
        "outputId": "1e816f91-e89a-4d52-917e-87453b9d17db",
        "colab": {
          "base_uri": "https://localhost:8080/",
          "height": 34
        }
      },
      "source": [
        "states_train = bit_string(3)[:, :, :, None]\n",
        "states_train.shape"
      ],
      "execution_count": 9,
      "outputs": [
        {
          "output_type": "execute_result",
          "data": {
            "text/plain": [
              "(512, 3, 3, 1)"
            ]
          },
          "metadata": {
            "tags": []
          },
          "execution_count": 9
        }
      ]
    },
    {
      "cell_type": "markdown",
      "metadata": {
        "id": "wOS0L2tAATVe",
        "colab_type": "text"
      },
      "source": [
        "Generate a random test set of lattice size N=10 to evaluate if the CRBM matches the ISing model for bigger lattice sizes."
      ]
    },
    {
      "cell_type": "code",
      "metadata": {
        "id": "e4t-Mm4E1ur4",
        "colab_type": "code",
        "outputId": "01e8e4ce-a829-43f5-845c-08ed1cfa5041",
        "colab": {
          "base_uri": "https://localhost:8080/",
          "height": 34
        }
      },
      "source": [
        "N = 50\n",
        "states_test = np.asarray(np.random.binomial(size=(4 * 10 ** 3, N, N, 1), p=0.5, n=1), dtype=floatX)\n",
        "states_test.shape"
      ],
      "execution_count": 10,
      "outputs": [
        {
          "output_type": "execute_result",
          "data": {
            "text/plain": [
              "(4000, 50, 50, 1)"
            ]
          },
          "metadata": {
            "tags": []
          },
          "execution_count": 10
        }
      ]
    },
    {
      "cell_type": "code",
      "metadata": {
        "id": "J1CTzY8LvrPI",
        "colab_type": "code",
        "colab": {}
      },
      "source": [
        "def ising_energy(states):\n",
        "    states = 2 * states - 1\n",
        "\n",
        "    nb = np.roll(states, shift=-1, axis=1) + np.roll(states, shift=-1, axis=2)\n",
        "\n",
        "    return -np.sum(states * nb, axis=(1, 2, 3))"
      ],
      "execution_count": 0,
      "outputs": []
    },
    {
      "cell_type": "markdown",
      "metadata": {
        "id": "31kyXyzxAteM",
        "colab_type": "text"
      },
      "source": [
        "For now we will only consider the case $T=1$"
      ]
    },
    {
      "cell_type": "code",
      "metadata": {
        "id": "3DwA8L7N2XbB",
        "colab_type": "code",
        "colab": {}
      },
      "source": [
        "temp = 1."
      ],
      "execution_count": 0,
      "outputs": []
    },
    {
      "cell_type": "markdown",
      "metadata": {
        "id": "qoCi0HL2A16p",
        "colab_type": "text"
      },
      "source": [
        "The physical energy is computed for train and test set."
      ]
    },
    {
      "cell_type": "code",
      "metadata": {
        "id": "6ny3qOL3vl3O",
        "colab_type": "code",
        "outputId": "030d6b1c-3f4e-49b0-a094-fe13d4739f9a",
        "colab": {
          "base_uri": "https://localhost:8080/",
          "height": 34
        }
      },
      "source": [
        "E_phys_train = ising_energy(states_train)\n",
        "E_phys_test = ising_energy(states_test)\n",
        "E_phys_train.shape"
      ],
      "execution_count": 13,
      "outputs": [
        {
          "output_type": "execute_result",
          "data": {
            "text/plain": [
              "(512,)"
            ]
          },
          "metadata": {
            "tags": []
          },
          "execution_count": 13
        }
      ]
    },
    {
      "cell_type": "markdown",
      "metadata": {
        "id": "aZ0t1lhZBB4c",
        "colab_type": "text"
      },
      "source": [
        "The CRBm will be trained by batches of 32 states"
      ]
    },
    {
      "cell_type": "code",
      "metadata": {
        "id": "eSZRLeNDwxuQ",
        "colab_type": "code",
        "colab": {}
      },
      "source": [
        "TRAIN_BUF = E_phys_train.shape[0]\n",
        "BATCH_SIZE = 2 ** 5\n",
        "N_TRAIN_BATCHES = TRAIN_BUF// BATCH_SIZE\n",
        "\n",
        "train_dataset = tf.data.Dataset.from_tensor_slices((states_train, E_phys_train / temp)).shuffle(TRAIN_BUF).batch(BATCH_SIZE)"
      ],
      "execution_count": 0,
      "outputs": []
    },
    {
      "cell_type": "code",
      "metadata": {
        "id": "g5nHB6wC03au",
        "colab_type": "code",
        "outputId": "3d8269cd-178d-47a4-ae38-cbeb7f64076c",
        "colab": {
          "base_uri": "https://localhost:8080/",
          "height": 34
        }
      },
      "source": [
        "2 ** 5"
      ],
      "execution_count": 15,
      "outputs": [
        {
          "output_type": "execute_result",
          "data": {
            "text/plain": [
              "32"
            ]
          },
          "metadata": {
            "tags": []
          },
          "execution_count": 15
        }
      ]
    },
    {
      "cell_type": "markdown",
      "metadata": {
        "id": "9BzB92R0zgqs",
        "colab_type": "text"
      },
      "source": [
        "# The Model"
      ]
    },
    {
      "cell_type": "markdown",
      "metadata": {
        "id": "dxSkWptE0hXI",
        "colab_type": "text"
      },
      "source": [
        "Initialize the kernel W with filter_dims=(filter_number, filter_size) and both biases."
      ]
    },
    {
      "cell_type": "code",
      "metadata": {
        "id": "a0H-WBKOx1Lv",
        "colab_type": "code",
        "colab": {}
      },
      "source": [
        "filter_dims = (2, 2)\n",
        "filter_shape = (filter_dims[1], filter_dims[1], 1, filter_dims[0])\n",
        "\n",
        "\n",
        "multi = np.prod(filter_shape)\n",
        "W_np = np.asarray(np.random.randn(*filter_shape) * np.sqrt(2 / multi), dtype=floatX)\n",
        "\n",
        "W = tf.Variable(W_np)\n",
        "\n",
        "vbias = tf.Variable(np.zeros(1, dtype=floatX))\n",
        "hbias = tf.Variable(np.zeros(filter_dims[0], dtype=floatX))"
      ],
      "execution_count": 0,
      "outputs": []
    },
    {
      "cell_type": "markdown",
      "metadata": {
        "id": "h6CTcpub1Dd8",
        "colab_type": "text"
      },
      "source": [
        "The negative log likelihood also called free-energy."
      ]
    },
    {
      "cell_type": "code",
      "metadata": {
        "id": "YYuxQcKzx5cd",
        "colab_type": "code",
        "colab": {}
      },
      "source": [
        "def n_log_like(v):\n",
        "    input4D = periodic_padding(v, filter_dims[1])\n",
        "    filters4D = W\n",
        "\n",
        "    # Convolution\n",
        "    out = tf.nn.conv2d(input4D, filters4D, strides=1, padding=\"VALID\")\n",
        "    out = hbias[None, None, None, :] + out\n",
        "\n",
        "    # Same as softplus(x)=log(1 + exp(x))\n",
        "    hidden_term_not = tf.math.softplus(out)\n",
        "    hidden_term = tf.reduce_sum(hidden_term_not, axis=(1, 2, 3))\n",
        "\n",
        "    visible_term = tf.reduce_sum(v, axis=(1, 2)) * vbias[None, :]\n",
        "    visible_term = tf.reduce_sum(visible_term, axis=1)\n",
        "\n",
        "    return -hidden_term - visible_term"
      ],
      "execution_count": 0,
      "outputs": []
    },
    {
      "cell_type": "markdown",
      "metadata": {
        "id": "JXdCNfJ_1dGb",
        "colab_type": "text"
      },
      "source": [
        "$P(h|x): x \\rightarrow h$"
      ]
    },
    {
      "cell_type": "code",
      "metadata": {
        "id": "7EPUk1rvyAI3",
        "colab_type": "code",
        "colab": {}
      },
      "source": [
        "def prop_vis_to_hid(v):\n",
        "    input4D = periodic_padding(v, filter_dims[1])\n",
        "    filters4D = W\n",
        "\n",
        "    # Convolution\n",
        "    out = tf.nn.conv2d(input4D, filters4D, strides=1, padding=\"VALID\")\n",
        "\n",
        "    out = hbias[None, None, None, :] + out\n",
        "\n",
        "    mean_activation = tf.math.sigmoid(out)\n",
        "    return binomial(mean_activation)"
      ],
      "execution_count": 0,
      "outputs": []
    },
    {
      "cell_type": "markdown",
      "metadata": {
        "id": "OxXeic0n2Cft",
        "colab_type": "text"
      },
      "source": [
        "$P(x|h): h \\rightarrow x$"
      ]
    },
    {
      "cell_type": "code",
      "metadata": {
        "id": "_0s652fiyHR6",
        "colab_type": "code",
        "colab": {}
      },
      "source": [
        "def prop_hid_to_vis(h):\n",
        "    input4D = periodic_padding(h, filter_dims[1], deconv=True)\n",
        "    filters4D = tf.transpose(W[::-1, ::-1], [0, 1, 3, 2])\n",
        "\n",
        "    # Convolution\n",
        "    out = tf.nn.conv2d(input4D, filters4D, strides=1, padding=\"VALID\")\n",
        "\n",
        "    out = vbias[None, None, None, :] + out\n",
        "\n",
        "    mean_activation = tf.math.sigmoid(out)\n",
        "    return binomial(mean_activation)"
      ],
      "execution_count": 0,
      "outputs": []
    },
    {
      "cell_type": "markdown",
      "metadata": {
        "id": "vKCCahXU2Nj_",
        "colab_type": "text"
      },
      "source": [
        "$P(x'|x): x \\rightarrow x'$"
      ]
    },
    {
      "cell_type": "code",
      "metadata": {
        "id": "aDEsrO92yN3B",
        "colab_type": "code",
        "colab": {}
      },
      "source": [
        "def gibbs(state):\n",
        "    return prop_hid_to_vis(prop_vis_to_hid(state))"
      ],
      "execution_count": 0,
      "outputs": []
    },
    {
      "cell_type": "markdown",
      "metadata": {
        "id": "dvZzNjW_2W2_",
        "colab_type": "text"
      },
      "source": [
        "$diff(x) = E(x) - F(x)$ \\\\\n",
        "$C = \\sum_x diff(x)$ \\\\\n",
        "$loss = \\sum_x (diff(x) - C)^2$"
      ]
    },
    {
      "cell_type": "code",
      "metadata": {
        "id": "expppT3Qyc48",
        "colab_type": "code",
        "colab": {}
      },
      "source": [
        "@tf.function\n",
        "def compute_loss(x, nll_phys):\n",
        "    nll_crbm = n_log_like(x)\n",
        "\n",
        "    diff = nll_phys - nll_crbm\n",
        "    C = tf.reduce_mean(diff)\n",
        "\n",
        "    loss = tf.reduce_mean((diff - C) ** 2)\n",
        "    return loss"
      ],
      "execution_count": 0,
      "outputs": []
    },
    {
      "cell_type": "markdown",
      "metadata": {
        "id": "1tazcvUJ3b4D",
        "colab_type": "text"
      },
      "source": [
        "Initialize the adam optimizer, compute the gradients and apply them."
      ]
    },
    {
      "cell_type": "code",
      "metadata": {
        "id": "5ctvr0eLymUe",
        "colab_type": "code",
        "colab": {}
      },
      "source": [
        "opt = tf.keras.optimizers.Adam()\n",
        "def compute_grad(x, nll_phys):\n",
        "    # compute the grad\n",
        "\n",
        "    ### pass through network\n",
        "    with tf.GradientTape() as tape:\n",
        "        loss = compute_loss(x, nll_phys)\n",
        "\n",
        "    grad = tape.gradient(loss, params)\n",
        "    return grad, loss\n",
        "\n",
        "@tf.function\n",
        "def train(x, nll_phys):\n",
        "    grad, loss = compute_grad(x, nll_phys)\n",
        "\n",
        "    opt.apply_gradients(zip(grad, params))\n",
        "    return loss"
      ],
      "execution_count": 0,
      "outputs": []
    },
    {
      "cell_type": "markdown",
      "metadata": {
        "id": "-2mNJF1ixnN4",
        "colab_type": "text"
      },
      "source": [
        "Everything combined in one Class."
      ]
    },
    {
      "cell_type": "code",
      "metadata": {
        "id": "Hu2rPLnOmrjh",
        "colab_type": "code",
        "colab": {}
      },
      "source": [
        "class CRBM:\n",
        "        def __init__(\n",
        "        self,\n",
        "        filter_dims=(2, 2),\n",
        "        opt=None\n",
        "\n",
        "    ):\n",
        "            assert len(filter_dims) == 2\n",
        "            if opt is None:\n",
        "                opt = tf.keras.optimizers.Adam()\n",
        "                \n",
        "            self.opt = opt\n",
        "            \n",
        "            self.filter_shape = (filter_dims[1], filter_dims[1], 1, filter_dims[0])\n",
        "            self.filter_dims = filter_dims\n",
        "\n",
        "\n",
        "            multi = np.prod(self.filter_shape)\n",
        "            W_np = np.asarray(np.random.randn(*self.filter_shape) * np.sqrt(2 / multi), dtype=floatX)\n",
        "\n",
        "            W = tf.Variable(W_np)\n",
        "\n",
        "            vbias = tf.Variable(np.zeros(1, dtype=floatX))\n",
        "            hbias = tf.Variable(np.zeros(filter_dims[0], dtype=floatX))\n",
        "\n",
        "            self.W = W\n",
        "            self.hbias = hbias\n",
        "            self.vbias = vbias\n",
        "\n",
        "\n",
        "            # Learning parameters\n",
        "            self.params = [self.W, self.vbias, self.hbias]\n",
        "\n",
        "\n",
        "        def n_log_like(self, v):\n",
        "            input4D = periodic_padding(v, self.filter_dims[1])\n",
        "            filters4D = self.W\n",
        "\n",
        "            # Convolution\n",
        "            out = tf.nn.conv2d(input4D, filters4D, strides=1, padding=\"VALID\")\n",
        "            out = self.hbias[None, None, None, :] + out\n",
        "\n",
        "            # Same as softplus(x)=log(1 + exp(x))\n",
        "            hidden_term_not = tf.math.softplus(out)\n",
        "            hidden_term = tf.reduce_sum(hidden_term_not, axis=(1, 2, 3))\n",
        "\n",
        "            visible_term = tf.reduce_sum(v, axis=(1, 2)) * self.vbias[None, :]\n",
        "            visible_term = tf.reduce_sum(visible_term, axis=1)\n",
        "\n",
        "            return -hidden_term - visible_term\n",
        "\n",
        "        def prop_vis_to_hid(self, v):\n",
        "            input4D = periodic_padding(v, self.filter_dims[1])\n",
        "            filters4D = self.W\n",
        "            \n",
        "            # Convolution\n",
        "            out = tf.nn.conv2d(input4D, filters4D, strides=1, padding=\"VALID\")\n",
        "            \n",
        "            out = self.hbias[None, None, None, :] + out\n",
        "            \n",
        "            mean_activation = tf.math.sigmoid(out)\n",
        "            return binomial(mean_activation)\n",
        "            \n",
        "        \n",
        "        def prop_hid_to_vis(self, h):\n",
        "            input4D = periodic_padding(h, self.filter_dims[1], deconv=True)\n",
        "            filters4D = tf.transpose(self.W[::-1, ::-1], [0, 1, 3, 2])\n",
        "\n",
        "            # Convolution\n",
        "            out = tf.nn.conv2d(input4D, filters4D, strides=1, padding=\"VALID\")\n",
        "            \n",
        "            out = self.vbias[None, None, None, :] + out\n",
        "            \n",
        "            mean_activation = tf.math.sigmoid(out)\n",
        "            return binomial(mean_activation)\n",
        "        \n",
        "        @tf.function\n",
        "        def gibbs(self, state):\n",
        "            return self.prop_hid_to_vis(self.prop_vis_to_hid(state))\n",
        "        \n",
        "        \n",
        "        @tf.function\n",
        "        def gibbs_k(self, state, k=1):\n",
        "            \n",
        "            i = tf.constant(0)\n",
        "            cond = lambda i, state: tf.less(i, k)\n",
        "\n",
        "            def operation(i, state):\n",
        "                i += 1\n",
        "                state = self.gibbs(state)\n",
        "                return i, state\n",
        "\n",
        "            _, state = tf.while_loop(cond, operation, [i, state])\n",
        "            \n",
        "            return state\n",
        "        \n",
        "        @tf.function\n",
        "        def compute_loss(self, x, nll_phys):\n",
        "            nll_crbm = self.n_log_like(x)\n",
        "\n",
        "            diff = nll_phys - nll_crbm\n",
        "            C = tf.reduce_mean(diff)\n",
        "            \n",
        "            loss = tf.reduce_mean((diff - C) ** 2)\n",
        "            return loss\n",
        "        \n",
        "        def compute_grad(self, x, nll_phys):\n",
        "            # compute the grad\n",
        "\n",
        "            ### pass through network\n",
        "            with tf.GradientTape() as tape:\n",
        "                loss = self.compute_loss(x, nll_phys)\n",
        "\n",
        "            grad = tape.gradient(loss, self.params)\n",
        "            return grad, loss\n",
        "    \n",
        "\n",
        "        @tf.function\n",
        "        def train(self, x, nll_phys):\n",
        "            grad, loss = self.compute_grad(x, nll_phys)\n",
        "\n",
        "            self.opt.apply_gradients(zip(grad, self.params))\n",
        "            return loss"
      ],
      "execution_count": 0,
      "outputs": []
    },
    {
      "cell_type": "markdown",
      "metadata": {
        "id": "nMFUHQ7hyNXR",
        "colab_type": "text"
      },
      "source": [
        "# Training"
      ]
    },
    {
      "cell_type": "markdown",
      "metadata": {
        "id": "5ylnigpuBSB9",
        "colab_type": "text"
      },
      "source": [
        "We create an object CRBM and train it. One can see that both the train_loss and the test_loss decrease simulaniously. The expected difference between the two losses should be around $\\frac{t_{test}}{t_{train}}=\\frac{N_{test}^2}{N^2_{train}}=\\frac{50^2}{3^2}=277.77$"
      ]
    },
    {
      "cell_type": "code",
      "metadata": {
        "id": "Rpvy_HS-vrMf",
        "colab_type": "code",
        "colab": {}
      },
      "source": [
        "crbm = CRBM(filter_dims=(2, 2))"
      ],
      "execution_count": 0,
      "outputs": []
    },
    {
      "cell_type": "code",
      "metadata": {
        "id": "74Luj353ygYP",
        "colab_type": "code",
        "colab": {}
      },
      "source": [
        "loss_train = []\n",
        "loss_test = []\n",
        "epoch = 0"
      ],
      "execution_count": 0,
      "outputs": []
    },
    {
      "cell_type": "code",
      "metadata": {
        "id": "dmVULw63xiGi",
        "colab_type": "code",
        "outputId": "acf7aeea-f425-4c0f-f32d-4b7405ed161f",
        "colab": {
          "base_uri": "https://localhost:8080/",
          "height": 321
        }
      },
      "source": [
        "%%time\n",
        "l_train = 10 ** 9\n",
        "l_test = 10 ** 9\n",
        "\n",
        "while l_train > 10 ** -4:\n",
        "    # train\n",
        "    l_train = 0\n",
        "    \n",
        "    for train_s, train_E in train_dataset:\n",
        "        l_train += crbm.train(train_s, train_E)\n",
        "    \n",
        "    \n",
        "    l_train = l_train / N_TRAIN_BATCHES\n",
        "    #for test_x, test_y in tqdm(test_ds, total=N_TEST_BATCHES):\n",
        "    #l_test, acc_test = mps.compute_loss_accuracy(x_test, y_test)\n",
        "        \n",
        "    # plot results\n",
        "    \n",
        "    if epoch % 100 == 0:\n",
        "        l_test = crbm.compute_loss(states_test, E_phys_test)\n",
        "        \n",
        "        loss_train.append(l_train) \n",
        "        loss_test.append(l_test)\n",
        "        \n",
        "        display.clear_output()\n",
        "\n",
        "        print(\n",
        "            f\"Epoch: {epoch} | loss test: {loss_test[-1]}| loss train: {loss_train[-1]}| ltest/ltrain: {loss_test[-1]/loss_train[-1]}\"\n",
        "        )\n",
        "        plt.plot(loss_train)\n",
        "        plt.plot(loss_test)\n",
        "        plt.yscale(\"log\")\n",
        "        plt.show()\n",
        "    epoch += 1"
      ],
      "execution_count": 26,
      "outputs": [
        {
          "output_type": "stream",
          "text": [
            "Epoch: 3000 | loss test: 0.029319796711206436| loss train: 0.00010053713049273938| ltest/ltrain: 291.63153076171875\n"
          ],
          "name": "stdout"
        },
        {
          "output_type": "display_data",
          "data": {
            "image/png": "[encoded data removed]",
            "text/plain": [
              "<Figure size 432x288 with 1 Axes>"
            ]
          },
          "metadata": {
            "tags": []
          }
        },
        {
          "output_type": "stream",
          "text": [
            "CPU times: user 1min 47s, sys: 13.1 s, total: 2min\n",
            "Wall time: 1min 32s\n"
          ],
          "name": "stdout"
        }
      ]
    },
    {
      "cell_type": "markdown",
      "metadata": {
        "id": "WBaalL7QRmEn",
        "colab_type": "text"
      },
      "source": [
        "The learned convolutional filters show the effective interaction between nearest neighbours."
      ]
    },
    {
      "cell_type": "code",
      "metadata": {
        "id": "dBc3oN6q41eB",
        "colab_type": "code",
        "outputId": "bc1e3c7d-a530-4567-c22f-0d13959760de",
        "colab": {
          "base_uri": "https://localhost:8080/",
          "height": 195
        }
      },
      "source": [
        "W = crbm.W.numpy()\n",
        "vmax = np.max(abs(W))\n",
        "\n",
        "\n",
        "f = plt.figure(figsize=(5, 10), dpi=80, facecolor='w', edgecolor='k')\n",
        "\n",
        "f.add_subplot(1, 2, 1)\n",
        "plt.imshow(W[:, :,0, 0], vmin =-vmax, vmax=vmax, cmap=\"seismic\")\n",
        "f.add_subplot(1, 2, 2)\n",
        "\n",
        "plt.imshow(W[:,: ,0, 1], vmin =-vmax, vmax=vmax, cmap=\"seismic\")\n",
        "plt.show()"
      ],
      "execution_count": 27,
      "outputs": [
        {
          "output_type": "display_data",
          "data": {
            "image/png": "[encoded data removed]",
            "text/plain": [
              "<Figure size 400x800 with 2 Axes>"
            ]
          },
          "metadata": {
            "tags": []
          }
        }
      ]
    },
    {
      "cell_type": "markdown",
      "metadata": {
        "id": "-mZoKqjr7uVT",
        "colab_type": "text"
      },
      "source": [
        "# Sampling"
      ]
    },
    {
      "cell_type": "markdown",
      "metadata": {
        "id": "uVHIsquKZoh1",
        "colab_type": "text"
      },
      "source": [
        "A state with $N=50$ is updated $10 ^4$ times using gibbs sampling.  Because the temperature T=1, is well bellow the critical temperature TC=2.269 it converges to the ground state."
      ]
    },
    {
      "cell_type": "code",
      "metadata": {
        "id": "30z8c8PT7JLd",
        "colab_type": "code",
        "colab": {}
      },
      "source": [
        "N = 50\n",
        "states = tf.random.uniform((1, N, N, 1))"
      ],
      "execution_count": 0,
      "outputs": []
    },
    {
      "cell_type": "code",
      "metadata": {
        "id": "rsODKWM66otO",
        "colab_type": "code",
        "outputId": "bd4659f5-a0de-4842-b5d6-4813f29221c2",
        "colab": {
          "base_uri": "https://localhost:8080/",
          "height": 521
        }
      },
      "source": [
        "epochs = 3 * 10 ** 4\n",
        "Es = []\n",
        "for i in range(epochs):\n",
        "    states = crbm.gibbs(states)\n",
        "    Es.append(ising_energy(states)[0])\n",
        "    \n",
        "    if i % 500 == 0:\n",
        "        display.clear_output()\n",
        "        plt.imshow(states.numpy()[0, :,:, 0], vmin=0, vmax=1, cmap=\"gray\")\n",
        "        plt.show()\n",
        "        plt.plot(Es)\n",
        "        plt.plot([0, len(Es)], [-2 * N**2, -2 * N**2])\n",
        "        plt.show()"
      ],
      "execution_count": 29,
      "outputs": [
        {
          "output_type": "display_data",
          "data": {
            "image/png": "[encoded data removed]",
            "text/plain": [
              "<Figure size 432x288 with 1 Axes>"
            ]
          },
          "metadata": {
            "tags": []
          }
        },
        {
          "output_type": "display_data",
          "data": {
            "image/png": "[encoded data removed]",
            "text/plain": [
              "<Figure size 432x288 with 1 Axes>"
            ]
          },
          "metadata": {
            "tags": []
          }
        }
      ]
    },
    {
      "cell_type": "markdown",
      "metadata": {
        "id": "GJbMS_sd--vo",
        "colab_type": "text"
      },
      "source": [
        "The minimat energy is N^2 * 2"
      ]
    },
    {
      "cell_type": "markdown",
      "metadata": {
        "id": "Kj4_-LChLMin",
        "colab_type": "text"
      },
      "source": [
        "# Thermodynamic constants at different temperatures"
      ]
    },
    {
      "cell_type": "markdown",
      "metadata": {
        "id": "uLK2kJOWwLwR",
        "colab_type": "text"
      },
      "source": [
        "Until now we only trained as CRBM at a $T=1$. Train differnt CRBM at different $T$s.\n",
        "\n",
        "\n"
      ]
    },
    {
      "cell_type": "code",
      "metadata": {
        "id": "D45rMFAJLR8A",
        "colab_type": "code",
        "colab": {}
      },
      "source": [
        "def train(T, crbm=None):\n",
        "    if crbm is None:\n",
        "        crbm = CRBM(filter_dims=(2, 2))\n",
        "    \n",
        "    l_train = 10 ** 9\n",
        "    l_test = 10 ** 9\n",
        "    epoch = 0\n",
        "    while l_train > 10 ** -4:\n",
        "        # train\n",
        "        l_train = 0\n",
        "\n",
        "        for train_s, train_E in train_dataset:\n",
        "            l_train += crbm.train(train_s, train_E / T)\n",
        "        \n",
        "        l_train = l_train / N_TRAIN_BATCHES\n",
        "\n",
        "        # plot results\n",
        "\n",
        "        if epoch % 100 == 0:\n",
        "            l_test = crbm.compute_loss(states_test, E_phys_test / T)\n",
        "\n",
        "            display.clear_output()\n",
        "\n",
        "            print(\n",
        "                f\"Temp: {T} | Epoch: {epoch} | loss test: {l_test}| loss train: {l_train}\"\n",
        "            )\n",
        "        epoch += 1\n",
        "   \n",
        "    return crbm   "
      ],
      "execution_count": 0,
      "outputs": []
    },
    {
      "cell_type": "code",
      "metadata": {
        "id": "6fVXXJsbxRhz",
        "colab_type": "code",
        "colab": {}
      },
      "source": [
        "Ts = np.linspace(1.5, 3.5, 25)"
      ],
      "execution_count": 0,
      "outputs": []
    },
    {
      "cell_type": "markdown",
      "metadata": {
        "id": "jKA6BFdb9n32",
        "colab_type": "text"
      },
      "source": [
        "Train different CRBM's at different temperatures."
      ]
    },
    {
      "cell_type": "code",
      "metadata": {
        "id": "-X4-M258w5kI",
        "colab_type": "code",
        "colab": {}
      },
      "source": [
        "#%%time\n",
        "#crbms = [train(T) for T in Ts]"
      ],
      "execution_count": 0,
      "outputs": []
    },
    {
      "cell_type": "markdown",
      "metadata": {
        "id": "4EpzESjt8tYj",
        "colab_type": "text"
      },
      "source": [
        "Faster. Train a CRBM at a temperature, save it, and then modify it's temperature and retrain it at the new temperature."
      ]
    },
    {
      "cell_type": "code",
      "metadata": {
        "id": "Ou7tzktTThL5",
        "colab_type": "code",
        "outputId": "b539b29a-d399-43a8-c5cd-5b097c9cfe9d",
        "colab": {
          "base_uri": "https://localhost:8080/",
          "height": 69
        }
      },
      "source": [
        "%%time\n",
        "crbm = CRBM(filter_dims=(2, 2))\n",
        "crbms = []\n",
        "T_old = Ts[0]\n",
        "for T in Ts:\n",
        "    crbm_new = CRBM(filter_dims=(2, 2))\n",
        "    \n",
        "    crbm_new.W.assign(crbm.W / T * T_old )\n",
        "    crbm_new.vbias.assign(crbm.vbias / T * T_old)\n",
        "    crbm_new.hbias.assign(crbm.hbias / T * T_old)\n",
        "    \n",
        "    W_old = crbm_new.W.numpy()\n",
        "    crbm = train(T, crbm_new)\n",
        "    W_new = crbm.W.numpy()\n",
        "    \n",
        "    crbms.append(crbm)"
      ],
      "execution_count": 33,
      "outputs": [
        {
          "output_type": "stream",
          "text": [
            "Temp: 3.5 | Epoch: 500 | loss test: 0.0927712470293045| loss train: 0.00032283776090480387\n",
            "CPU times: user 8min 4s, sys: 33.9 s, total: 8min 38s\n",
            "Wall time: 7min 2s\n"
          ],
          "name": "stdout"
        }
      ]
    },
    {
      "cell_type": "markdown",
      "metadata": {
        "id": "T-8wCYOXEl6e",
        "colab_type": "text"
      },
      "source": [
        "# Montecarlo Simulations"
      ]
    },
    {
      "cell_type": "markdown",
      "metadata": {
        "id": "aon4yyLvEsDM",
        "colab_type": "text"
      },
      "source": [
        "The functions performs gibbs steps with a CRBM and saves the energy and magnetization in arrays."
      ]
    },
    {
      "cell_type": "code",
      "metadata": {
        "id": "GIz4HrfXyCX0",
        "colab_type": "code",
        "colab": {}
      },
      "source": [
        "def MC(crbm, states, steps, hidden_steps=10):\n",
        "    Es = np.empty(steps)\n",
        "    Ms = np.empty(steps)\n",
        "    \n",
        "    for i in range(steps):\n",
        "        states = crbm.gibbs_k(states, k=hidden_steps)\n",
        "        \n",
        "        # Get the state out of the gpu\n",
        "        state_np = states.numpy()\n",
        "        Es[i] = ising_energy(state_np)[0]\n",
        "        Ms[i] = (2 * state_np - 1).sum()\n",
        "              \n",
        "    return Es, Ms, states"
      ],
      "execution_count": 0,
      "outputs": []
    },
    {
      "cell_type": "markdown",
      "metadata": {
        "id": "uiAgoIsXEXa3",
        "colab_type": "text"
      },
      "source": [
        "This function will plot the thermodynamic constants"
      ]
    },
    {
      "cell_type": "code",
      "metadata": {
        "id": "7WxXnDVh06Ia",
        "colab_type": "code",
        "colab": {}
      },
      "source": [
        "def plot_thermodynamics(Temp, Es, Cvs, mag, susceptibility):\n",
        "    # ----------------------------------------------------------------------\n",
        "    # Plot the Energy, Magnetization, Specific Heat and Susceptibility\n",
        "    # ----------------------------------------------------------------------\n",
        "\n",
        "    f = plt.figure(figsize=(18, 10), dpi=80, facecolor='w', edgecolor='k')\n",
        "    xlabel = \"T\"\n",
        "    \n",
        "    sp = f.add_subplot(2, 2, 1)\n",
        "    plt.xlabel(xlabel, fontsize=20)\n",
        "    plt.ylabel(\"Energy \", fontsize=20)\n",
        "    plt.scatter(Temp, Es)\n",
        "\n",
        "    sp = f.add_subplot(2, 2, 2)\n",
        "    plt.xlabel(xlabel, fontsize=20)\n",
        "    plt.ylabel(\"Magnetization \", fontsize=20)\n",
        "    plt.scatter(Temp, mag)\n",
        "\n",
        "    sp = f.add_subplot(2, 2, 3)\n",
        "    plt.xlabel(xlabel, fontsize=20)\n",
        "    plt.ylabel(\"Specific Heat \", fontsize=20)\n",
        "\n",
        "    plt.scatter(Temp, Cvs)\n",
        "    plt.axvline(x=2.269)\n",
        "\n",
        "    sp = f.add_subplot(2, 2, 4);\n",
        "    plt.xlabel(xlabel, fontsize=20);\n",
        "    plt.ylabel(\"Susceptibility\", fontsize=20);\n",
        "    \n",
        "    plt.scatter(Temp, susceptibility)\n",
        "    \n",
        "    plt.show()"
      ],
      "execution_count": 0,
      "outputs": []
    },
    {
      "cell_type": "markdown",
      "metadata": {
        "id": "SH35rZQhFSI2",
        "colab_type": "text"
      },
      "source": [
        "Initialize the step that will be used during the MC. There is an oportunity for parallelization in the Gpu if severall states are updated in the simulation. For simplicity only one states is used.\n",
        "\n"
      ]
    },
    {
      "cell_type": "code",
      "metadata": {
        "id": "O2FSWc2ImNI0",
        "colab_type": "code",
        "colab": {}
      },
      "source": [
        "N = 30\n",
        "states = tf.random.uniform((1, N, N, 1))"
      ],
      "execution_count": 0,
      "outputs": []
    },
    {
      "cell_type": "markdown",
      "metadata": {
        "id": "eTbe0Ya6Fa6Q",
        "colab_type": "text"
      },
      "source": [
        "We start with the highest temperature and slowly lower it. First there is a warmup phase and then thermodynamic constants are recorded."
      ]
    },
    {
      "cell_type": "code",
      "metadata": {
        "id": "_krDMaEex-MW",
        "colab_type": "code",
        "outputId": "ae85dc38-2658-4fe7-8afb-86f0add77881",
        "colab": {
          "base_uri": "https://localhost:8080/",
          "height": 986
        }
      },
      "source": [
        "%%time\n",
        "\n",
        "energy = []\n",
        "magnetization = []\n",
        "CV = []\n",
        "susceptibility = []\n",
        "\n",
        "e, m, states = MC(crbms[-1], states, 2 * 10 ** 4)\n",
        "for i, crbm in enumerate(crbms[::-1]):\n",
        "    # Warmup\n",
        "    e, m, states = MC(crbm, states, 10 ** 3)\n",
        "    \n",
        "    # Mc Simulation\n",
        "    e, m, states = MC(crbm, states,  2 * 10 ** 4)\n",
        "    \n",
        "    # Computing expectaion values\n",
        "    e1 = e.mean()\n",
        "    e2 = (e ** 2).mean()\n",
        "    \n",
        "    m1 = m.mean()\n",
        "    m2 = (m ** 2).mean()\n",
        "    \n",
        "    \n",
        "    energy.append(e1 / N ** 2)\n",
        "    magnetization.append(m1 / N ** 2)\n",
        "    CV.append( (e2 - e1 ** 2) / Ts[-i - 1] ** 2 / N ** 2 )\n",
        "    susceptibility.append( (m2 - m1 ** 2) / Ts[-i - 1] / N ** 2 )\n",
        "    \n",
        "    \n",
        "    display.clear_output()\n",
        "    print(\"Temp: \", Ts[-i -1])\n",
        "    plt.imshow(states.numpy()[0, :, :, 0], vmin=0, vmax=1, cmap=\"gray\")\n",
        "    plt.show()\n",
        "    \n",
        "    # Plot thermodynamics\n",
        "    plot_thermodynamics(Ts[-i - 1:], energy[::-1], CV[::-1], magnetization[::-1], susceptibility[::-1])"
      ],
      "execution_count": 37,
      "outputs": [
        {
          "output_type": "stream",
          "text": [
            "Temp:  1.5\n"
          ],
          "name": "stdout"
        },
        {
          "output_type": "display_data",
          "data": {
            "image/png": "[encoded data removed]",
            "text/plain": [
              "<Figure size 432x288 with 1 Axes>"
            ]
          },
          "metadata": {
            "tags": []
          }
        },
        {
          "output_type": "display_data",
          "data": {
            "image/png": "[encoded data removed]",
            "text/plain": [
              "<Figure size 1440x800 with 4 Axes>"
            ]
          },
          "metadata": {
            "tags": []
          }
        },
        {
          "output_type": "stream",
          "text": [
            "CPU times: user 31min 31s, sys: 45 s, total: 32min 16s\n",
            "Wall time: 31min 14s\n"
          ],
          "name": "stdout"
        }
      ]
    },
    {
      "cell_type": "markdown",
      "metadata": {
        "id": "HmlMWCl2eC13",
        "colab_type": "text"
      },
      "source": [
        "Above you can see that the Magnetization colapses to 0 after the critical temperature $T_c=2.269$ and that the specific heat is maximal around $T_c$ as expected."
      ]
    },
    {
      "cell_type": "code",
      "metadata": {
        "id": "1m5rUr7eFHk_",
        "colab_type": "code",
        "colab": {}
      },
      "source": [
        "t1 = time.time()"
      ],
      "execution_count": 0,
      "outputs": []
    },
    {
      "cell_type": "code",
      "metadata": {
        "id": "oEcPyQpDPtQL",
        "colab_type": "code",
        "colab": {
          "base_uri": "https://localhost:8080/",
          "height": 34
        },
        "outputId": "aac6540d-93f6-4676-9d4c-8bf3b0e84f29"
      },
      "source": [
        "(t1 - t0) / 60"
      ],
      "execution_count": 39,
      "outputs": [
        {
          "output_type": "execute_result",
          "data": {
            "text/plain": [
              "41.07261809110641"
            ]
          },
          "metadata": {
            "tags": []
          },
          "execution_count": 39
        }
      ]
    },
    {
      "cell_type": "code",
      "metadata": {
        "id": "0hk388DSV6WT",
        "colab_type": "code",
        "colab": {}
      },
      "source": [
        ""
      ],
      "execution_count": 0,
      "outputs": []
    }
  ]
}